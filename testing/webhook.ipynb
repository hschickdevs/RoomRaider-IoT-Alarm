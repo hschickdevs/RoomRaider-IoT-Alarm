{
 "cells": [
  {
   "cell_type": "code",
   "execution_count": 31,
   "metadata": {},
   "outputs": [],
   "source": [
    "import os\n",
    "import sys\n",
    "import requests\n",
    "import time\n",
    "sys.path.insert(1, os.path.join(sys.path[0], '..'))\n",
    "from server.util import handle_env\n",
    "handle_env()"
   ]
  },
  {
   "cell_type": "code",
   "execution_count": 32,
   "metadata": {},
   "outputs": [
    {
     "name": "stdout",
     "output_type": "stream",
     "text": [
      "Success: Ping received! 200\n"
     ]
    },
    {
     "name": "stderr",
     "output_type": "stream",
     "text": [
      "/usr/lib/python3/dist-packages/urllib3/connectionpool.py:1020: InsecureRequestWarning: Unverified HTTPS request is being made to host '0.0.0.0'. Adding certificate verification is strongly advised. See: https://urllib3.readthedocs.io/en/latest/advanced-usage.html#ssl-warnings\n",
      "  warnings.warn(\n"
     ]
    }
   ],
   "source": [
    "# Ping the webhook\n",
    "payload = {\n",
    "        \"action\": \"ping\",\n",
    "}\n",
    "r = requests.post(url=os.getenv(\"WEBHOOK_URL_FULL\"), json=payload, verify=False)\n",
    "print(r.text, r.status_code)"
   ]
  },
  {
   "cell_type": "code",
   "execution_count": 35,
   "metadata": {},
   "outputs": [
    {
     "name": "stdout",
     "output_type": "stream",
     "text": [
      "Success! 200\n"
     ]
    },
    {
     "name": "stderr",
     "output_type": "stream",
     "text": [
      "/usr/lib/python3/dist-packages/urllib3/connectionpool.py:1020: InsecureRequestWarning: Unverified HTTPS request is being made to host '0.0.0.0'. Adding certificate verification is strongly advised. See: https://urllib3.readthedocs.io/en/latest/advanced-usage.html#ssl-warnings\n",
      "  warnings.warn(\n"
     ]
    }
   ],
   "source": [
    "# ALERT THAT THE SENSOR STATUS IS OPEN\n",
    "payload = {\n",
    "        \"action\": \"sensor_event\",\n",
    "        \"timestamp\": int(time.time()),\n",
    "        \"location\": \"Bedroom Door\",\n",
    "        \"sensor_status\": \"OPEN\"\n",
    "}\n",
    "r = requests.post(url=os.getenv(\"WEBHOOK_URL_FULL\"), json=payload, verify=False)\n",
    "print(r.text, r.status_code)"
   ]
  },
  {
   "cell_type": "code",
   "execution_count": 36,
   "metadata": {},
   "outputs": [
    {
     "name": "stderr",
     "output_type": "stream",
     "text": [
      "/usr/lib/python3/dist-packages/urllib3/connectionpool.py:1020: InsecureRequestWarning: Unverified HTTPS request is being made to host '0.0.0.0'. Adding certificate verification is strongly advised. See: https://urllib3.readthedocs.io/en/latest/advanced-usage.html#ssl-warnings\n",
      "  warnings.warn(\n"
     ]
    },
    {
     "name": "stdout",
     "output_type": "stream",
     "text": [
      "Success! 200\n"
     ]
    }
   ],
   "source": [
    "# ALERT THAT THE SENSOR STATUS IS CLOSED\n",
    "payload = {\n",
    "        \"action\": \"sensor_event\",\n",
    "        \"timestamp\": int(time.time()),\n",
    "        \"location\": \"Bedroom Door\",\n",
    "        \"sensor_status\": \"CLOSED\"\n",
    "}\n",
    "r = requests.post(url=os.getenv(\"WEBHOOK_URL_FULL\"), json=payload, verify=False)\n",
    "print(r.text, r.status_code)"
   ]
  },
  {
   "cell_type": "code",
   "execution_count": null,
   "metadata": {},
   "outputs": [],
   "source": []
  }
 ],
 "metadata": {
  "kernelspec": {
   "display_name": "Python 3",
   "language": "python",
   "name": "python3"
  },
  "language_info": {
   "codemirror_mode": {
    "name": "ipython",
    "version": 3
   },
   "file_extension": ".py",
   "mimetype": "text/x-python",
   "name": "python",
   "nbconvert_exporter": "python",
   "pygments_lexer": "ipython3",
   "version": "3.10.12"
  }
 },
 "nbformat": 4,
 "nbformat_minor": 2
}
