{
 "cells": [
  {
   "cell_type": "code",
   "execution_count": 2,
   "metadata": {},
   "outputs": [],
   "source": [
    "import os\n",
    "import sys\n",
    "sys.path.insert(1, os.path.join(sys.path[0], '..'))\n",
    "from server.mongo import M5StickEvent, EventsMongoDB\n",
    "from server.util import handle_env\n",
    "\n",
    "handle_env()"
   ]
  },
  {
   "cell_type": "code",
   "execution_count": 3,
   "metadata": {},
   "outputs": [
    {
     "name": "stdout",
     "output_type": "stream",
     "text": [
      "{'ok': 1}\n"
     ]
    }
   ],
   "source": [
    "mongo = EventsMongoDB()\n",
    "mongo.ping()"
   ]
  },
  {
   "cell_type": "code",
   "execution_count": 6,
   "metadata": {},
   "outputs": [
    {
     "data": {
      "text/plain": [
       "[M5StickEvent(timestamp='1700168939', sensor_status='open', system_status='armed', _id=ObjectId('655685135571cdba291cc4bd')),\n",
       " M5StickEvent(timestamp='1700168942', sensor_status='closed', system_status='armed', _id=ObjectId('6556862e67f208861deab733')),\n",
       " M5StickEvent(timestamp='1700178942', sensor_status='open', system_status='armed', _id=ObjectId('6556877e67f208861deab734')),\n",
       " M5StickEvent(timestamp='1700188942', sensor_status='closed', system_status='armed', _id=ObjectId('6556878167f208861deab735')),\n",
       " M5StickEvent(timestamp='1700188942', sensor_status='open', system_status='armed', _id=ObjectId('6556908663a1787ee68eeb63')),\n",
       " M5StickEvent(timestamp='1700188942', sensor_status='open', system_status='armed', _id=ObjectId('655690bbe134e792529c2b7a')),\n",
       " M5StickEvent(timestamp='1700188942', sensor_status='open', system_status='armed', _id=ObjectId('655690f341d4348f3f79c794')),\n",
       " M5StickEvent(timestamp='1700188942', sensor_status='open', system_status='armed', _id=ObjectId('655bb822993a1837a0219de0'))]"
      ]
     },
     "execution_count": 6,
     "metadata": {},
     "output_type": "execute_result"
    }
   ],
   "source": [
    "mongo.get_all_events()"
   ]
  },
  {
   "cell_type": "code",
   "execution_count": 5,
   "metadata": {},
   "outputs": [
    {
     "data": {
      "text/plain": [
       "M5StickEvent(timestamp='1700188942', sensor_status='open', system_status='armed', _id=ObjectId('655bb822993a1837a0219de0'))"
      ]
     },
     "execution_count": 5,
     "metadata": {},
     "output_type": "execute_result"
    }
   ],
   "source": [
    "new_event = M5StickEvent(\n",
    "    timestamp=1700188942,\n",
    "    sensor_status=\"open\",\n",
    "    system_status=\"armed\",\n",
    ")\n",
    "\n",
    "mongo.add_event(new_event)"
   ]
  },
  {
   "cell_type": "code",
   "execution_count": null,
   "metadata": {},
   "outputs": [],
   "source": []
  }
 ],
 "metadata": {
  "kernelspec": {
   "display_name": "Python 3",
   "language": "python",
   "name": "python3"
  },
  "language_info": {
   "codemirror_mode": {
    "name": "ipython",
    "version": 3
   },
   "file_extension": ".py",
   "mimetype": "text/x-python",
   "name": "python",
   "nbconvert_exporter": "python",
   "pygments_lexer": "ipython3",
   "version": "3.11.4"
  }
 },
 "nbformat": 4,
 "nbformat_minor": 2
}
